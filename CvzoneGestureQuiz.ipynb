{
 "cells": [
  {
   "cell_type": "code",
   "execution_count": 2,
   "metadata": {},
   "outputs": [
    {
     "name": "stdout",
     "output_type": "stream",
     "text": [
      "Requirement already satisfied: cvzone in /Library/Frameworks/Python.framework/Versions/3.11/lib/python3.11/site-packages (1.6.1)\n",
      "Requirement already satisfied: opencv-python in /Library/Frameworks/Python.framework/Versions/3.11/lib/python3.11/site-packages (from cvzone) (4.9.0.80)\n",
      "Requirement already satisfied: numpy in /Library/Frameworks/Python.framework/Versions/3.11/lib/python3.11/site-packages (from cvzone) (1.25.2)\n",
      "Note: you may need to restart the kernel to use updated packages.\n"
     ]
    }
   ],
   "source": [
    "%pip install  cvzone"
   ]
  },
  {
   "cell_type": "code",
   "execution_count": 3,
   "metadata": {},
   "outputs": [
    {
     "name": "stdout",
     "output_type": "stream",
     "text": [
      "Name: cvzone\n",
      "Version: 1.6.1\n",
      "Summary: Computer Vision Helping Library\n",
      "Home-page: https://github.com/cvzone/cvzone.git\n",
      "Author: Computer Vision Zone\n",
      "Author-email: contact@computervision.zone\n",
      "License: MIT\n",
      "Location: /Library/Frameworks/Python.framework/Versions/3.11/lib/python3.11/site-packages\n",
      "Requires: numpy, opencv-python\n",
      "Required-by: \n",
      "Note: you may need to restart the kernel to use updated packages.\n"
     ]
    }
   ],
   "source": [
    "%pip show cvzone\n"
   ]
  },
  {
   "cell_type": "code",
   "execution_count": 4,
   "metadata": {},
   "outputs": [
    {
     "name": "stdout",
     "output_type": "stream",
     "text": [
      "Requirement already satisfied: mediapipe in /Library/Frameworks/Python.framework/Versions/3.11/lib/python3.11/site-packages (0.10.9)\n",
      "Requirement already satisfied: absl-py in /Library/Frameworks/Python.framework/Versions/3.11/lib/python3.11/site-packages (from mediapipe) (2.1.0)\n",
      "Requirement already satisfied: attrs>=19.1.0 in /Library/Frameworks/Python.framework/Versions/3.11/lib/python3.11/site-packages (from mediapipe) (23.2.0)\n",
      "Requirement already satisfied: flatbuffers>=2.0 in /Library/Frameworks/Python.framework/Versions/3.11/lib/python3.11/site-packages (from mediapipe) (23.5.26)\n",
      "Requirement already satisfied: matplotlib in /Library/Frameworks/Python.framework/Versions/3.11/lib/python3.11/site-packages (from mediapipe) (3.8.0)\n",
      "Requirement already satisfied: numpy in /Library/Frameworks/Python.framework/Versions/3.11/lib/python3.11/site-packages (from mediapipe) (1.25.2)\n",
      "Requirement already satisfied: opencv-contrib-python in /Library/Frameworks/Python.framework/Versions/3.11/lib/python3.11/site-packages (from mediapipe) (4.9.0.80)\n",
      "Requirement already satisfied: protobuf<4,>=3.11 in /Library/Frameworks/Python.framework/Versions/3.11/lib/python3.11/site-packages (from mediapipe) (3.20.3)\n",
      "Requirement already satisfied: sounddevice>=0.4.4 in /Library/Frameworks/Python.framework/Versions/3.11/lib/python3.11/site-packages (from mediapipe) (0.4.6)\n",
      "Requirement already satisfied: CFFI>=1.0 in /Library/Frameworks/Python.framework/Versions/3.11/lib/python3.11/site-packages (from sounddevice>=0.4.4->mediapipe) (1.16.0)\n",
      "Requirement already satisfied: contourpy>=1.0.1 in /Library/Frameworks/Python.framework/Versions/3.11/lib/python3.11/site-packages (from matplotlib->mediapipe) (1.1.1)\n",
      "Requirement already satisfied: cycler>=0.10 in /Library/Frameworks/Python.framework/Versions/3.11/lib/python3.11/site-packages (from matplotlib->mediapipe) (0.11.0)\n",
      "Requirement already satisfied: fonttools>=4.22.0 in /Library/Frameworks/Python.framework/Versions/3.11/lib/python3.11/site-packages (from matplotlib->mediapipe) (4.42.1)\n",
      "Requirement already satisfied: kiwisolver>=1.0.1 in /Library/Frameworks/Python.framework/Versions/3.11/lib/python3.11/site-packages (from matplotlib->mediapipe) (1.4.5)\n",
      "Requirement already satisfied: packaging>=20.0 in /Users/dlayelaluhaideb/Library/Python/3.11/lib/python/site-packages (from matplotlib->mediapipe) (23.1)\n",
      "Requirement already satisfied: pillow>=6.2.0 in /Library/Frameworks/Python.framework/Versions/3.11/lib/python3.11/site-packages (from matplotlib->mediapipe) (10.0.1)\n",
      "Requirement already satisfied: pyparsing>=2.3.1 in /Library/Frameworks/Python.framework/Versions/3.11/lib/python3.11/site-packages (from matplotlib->mediapipe) (3.1.1)\n",
      "Requirement already satisfied: python-dateutil>=2.7 in /Library/Frameworks/Python.framework/Versions/3.11/lib/python3.11/site-packages (from matplotlib->mediapipe) (2.8.2)\n",
      "Requirement already satisfied: pycparser in /Library/Frameworks/Python.framework/Versions/3.11/lib/python3.11/site-packages (from CFFI>=1.0->sounddevice>=0.4.4->mediapipe) (2.21)\n",
      "Requirement already satisfied: six>=1.5 in /Library/Frameworks/Python.framework/Versions/3.11/lib/python3.11/site-packages (from python-dateutil>=2.7->matplotlib->mediapipe) (1.16.0)\n",
      "Note: you may need to restart the kernel to use updated packages.\n"
     ]
    }
   ],
   "source": [
    "%pip install mediapipe"
   ]
  },
  {
   "cell_type": "code",
   "execution_count": 1,
   "metadata": {},
   "outputs": [
    {
     "name": "stderr",
     "output_type": "stream",
     "text": [
      "WARNING: All log messages before absl::InitializeLog() is called are written to STDERR\n",
      "I0000 00:00:1707336520.491688       1 gl_context.cc:344] GL version: 2.1 (2.1 INTEL-20.6.4), renderer: Intel(R) Iris(TM) Plus Graphics 645\n",
      "INFO: Created TensorFlow Lite XNNPACK delegate for CPU.\n"
     ]
    },
    {
     "name": "stdout",
     "output_type": "stream",
     "text": [
      "Total MCQ Objects Created: 4\n",
      "<class 'tuple'>\n",
      "<class 'float'>\n",
      "<class 'tuple'>\n",
      "<class 'float'>\n",
      "<class 'tuple'>\n",
      "<class 'float'>\n",
      "<class 'tuple'>\n",
      "<class 'float'>\n",
      "<class 'tuple'>\n",
      "<class 'float'>\n",
      "<class 'tuple'>\n",
      "<class 'float'>\n",
      "<class 'tuple'>\n",
      "<class 'float'>\n",
      "<class 'tuple'>\n",
      "<class 'float'>\n",
      "<class 'tuple'>\n",
      "<class 'float'>\n",
      "<class 'tuple'>\n",
      "<class 'float'>\n",
      "<class 'tuple'>\n",
      "<class 'float'>\n",
      "<class 'tuple'>\n",
      "<class 'float'>\n",
      "<class 'tuple'>\n",
      "<class 'float'>\n",
      "<class 'tuple'>\n",
      "<class 'float'>\n",
      "<class 'tuple'>\n",
      "<class 'float'>\n",
      "<class 'tuple'>\n",
      "<class 'float'>\n",
      "<class 'tuple'>\n",
      "<class 'float'>\n",
      "<class 'tuple'>\n",
      "<class 'float'>\n",
      "<class 'tuple'>\n",
      "<class 'float'>\n",
      "<class 'tuple'>\n",
      "<class 'float'>\n",
      "<class 'tuple'>\n",
      "<class 'float'>\n",
      "<class 'tuple'>\n",
      "<class 'float'>\n",
      "<class 'tuple'>\n",
      "<class 'float'>\n"
     ]
    },
    {
     "ename": "",
     "evalue": "",
     "output_type": "error",
     "traceback": [
      "\u001b[1;31mCanceled future for execute_request message before replies were done"
     ]
    },
    {
     "ename": "",
     "evalue": "",
     "output_type": "error",
     "traceback": [
      "\u001b[1;31mThe Kernel crashed while executing code in the the current cell or a previous cell. Please review the code in the cell(s) to identify a possible cause of the failure. Click <a href='https://aka.ms/vscodeJupyterKernelCrash'>here</a> for more info. View Jupyter <a href='command:jupyter.viewOutput'>log</a> for further details."
     ]
    }
   ],
   "source": [
    "import cv2\n",
    "import csv\n",
    "import cvzone\n",
    "from cvzone.HandTrackingModule import HandDetector\n",
    "import time #the reason we imported time is because we don't want the click to be repeated multiple times in the console\n",
    "\n",
    "cap = cv2.VideoCapture(0)\n",
    "cap.set(3, 1280) #width\n",
    "cap.set(4, 720) #highet\n",
    "detector = HandDetector(detectionCon=0.8)\n",
    "\n",
    "\n",
    "class MCQ(): #create an mcq class where every question is an object\n",
    "    def __init__(self, data): #the data for each question\n",
    "        self.question = data[0]\n",
    "        self.choice1 = data[1]\n",
    "        self.choice2 = data[2]\n",
    "        self.choice3 = data[3]\n",
    "        self.choice4 = data[4]\n",
    "        self.answer = int(data[5]) #the value of this is an integer now because we'll this value (the true value in the csv file) with the value the user choose\n",
    "\n",
    "        self.userAns = None #as a start before the user chooses anything\n",
    "\n",
    "    def update(self, cursor, bboxs):\n",
    "\n",
    "        for x, bbox in enumerate(bboxs):\n",
    "            x1, y1, x2, y2 = bbox\n",
    "            if x1 < cursor[0] < x2 and y1 < cursor[1] < y2: #this checks that the curser (in our program the tip of the index finger) is on a specific box or not\n",
    "                #0 refers to x and 1 refers to y\n",
    "                self.userAns = x + 1 #the reason we're using a +1 is becuase in the csv file we started counting from a and not 0, otherwise we would've putten it without the plus\n",
    "                cv2.rectangle(img, (x1, y1), (x2, y2), (0,255,0), cv2.FILLED) #the numbers refers to the color green, the failed to the thickness\n",
    "\n",
    "\n",
    "# Import csv file data\n",
    "pathCSV = \"CSV_file\" #name of the file or you can use it directly \n",
    "with open(pathCSV, newline='\\n') as f: \n",
    "    #(with) is a context manager in Python that is used here to manage the opening and closing of the file\n",
    "    #(open) function in Python used to open a file\n",
    "    #(newline='\\n'), you're telling Python to use \\n as the line separator in the file. this is related to the csv file\n",
    "    #(f) This part of the statement assigns the file object returned by open to the variable f\n",
    "    reader = csv.reader(f) #creates an object that operates like an iterator to read data from a CSV file line by line\n",
    "    dataAll = list(reader)[1:] #reader is converted into a list that contains the data for all the question, the heading is ignored in the output becuase we started from 1 instead of 0\n",
    "\n",
    "# Create Object for each MCQ\n",
    "mcqList = []\n",
    "for q in dataAll:\n",
    "    mcqList.append(MCQ(q))\n",
    "\n",
    "print(\"Total MCQ Objects Created:\", len(mcqList)) #num of questions\n",
    "\n",
    "qNo = 0\n",
    "qTotal = len(dataAll)\n",
    "\n",
    "while True:\n",
    "    success, img = cap.read()\n",
    "    img = cv2.flip(img, 1)\n",
    "    hands, img = detector.findHands(img, flipType=False)\n",
    "\n",
    "    if qNo < qTotal:\n",
    "        mcq = mcqList[qNo]\n",
    "        #each both refer to a choice in a question \n",
    "        #the second parameter is the text of our object\n",
    "        img, bbox = cvzone.putTextRect(img, mcq.question, [100, 100], 2, 2, offset=50, border=5)#position,scale\n",
    "        img, bbox1 = cvzone.putTextRect(img, mcq.choice1, [100, 250], 2, 2, offset=50, border=5)#offset provide margins and clearance\n",
    "        img, bbox2 = cvzone.putTextRect(img, mcq.choice2, [400, 250], 2, 2, offset=50, border=5)\n",
    "        img, bbox3 = cvzone.putTextRect(img, mcq.choice3, [100, 400], 2, 2, offset=50, border=5)\n",
    "        img, bbox4 = cvzone.putTextRect(img, mcq.choice4, [400, 400], 2, 2, offset=50, border=5)\n",
    "\n",
    "        if hands: #this checks if we have clicked on an answer or not \n",
    "            lmList = hands[0]['lmList'] #this is a variable \n",
    "            cursor = lmList[8] #the curser refered to here is our index finger (mediapipe refers to the tip of the index finger as 8)\n",
    "\n",
    "            # Capture all returned values in a tuple\n",
    "            results = detector.findDistance(lmList[8][:2], lmList[12][:2]) #results is type tuple that takes all information about 2 landmarks\n",
    "            #this takes the x1,y1,x2,y2 coordinates (distance)\n",
    "            #this provides us with the distance between the middle finger and the index finger\n",
    "            #the reason we do this is because if the distance is low then it means we clicked\n",
    "            length = results[0] #type is float (it takes the first arguemnt of results which is the distance)\n",
    "            \n",
    "            if length < 35: #this distance means that the two fingers and right next to eachother\n",
    "                #we'll use the (update method) which we created to determine which choice has been clicked\n",
    "                mcq.update(cursor, [bbox1, bbox2, bbox3, bbox4]) #it has to check all the options in each question \n",
    "                if mcq.userAns is not None: #this checks if something is being clicked\n",
    "                    time.sleep(0.3) #so that it only catches the click once \n",
    "                    qNo += 1 # this moves to the next question (the above list will be updated as well)\n",
    "    else:\n",
    "        score = 0\n",
    "        for mcq in mcqList:\n",
    "            if mcq.answer == mcq.userAns: #here we're refering to the answer in the csv file to the one in the msq object\n",
    "                score += 1 #if the if above was flase we'll just ignore the choice and score will not be incremented\n",
    "        score = round((score / qTotal) * 100, 2) #gives the score as percentage (it's orginally the number of questions that was correctly answered)\n",
    "        img, _ = cvzone.putTextRect(img, \"Quiz Completed\", [250, 300], 2, 2, offset=50, border=5)\n",
    "        img, _ = cvzone.putTextRect(img, f'Your Score: {score}%', [700, 300], 2, 2, offset=50, border=5)\n",
    "\n",
    "    # Draw Progress Bar\n",
    "    barValue = 150 + (950 // qTotal) * qNo #150 is the starting point #950 is the total width of the bar (150-1100)\n",
    "    cv2.rectangle(img, (150, 600), (barValue, 650), (0,255,0), cv2.FILLED)\n",
    "    cv2.rectangle(img, (150, 600), (1100, 650), (0,255,0), 5)\n",
    "    img, _ = cvzone.putTextRect(img, f'{round((qNo / qTotal) * 100)}%', [1130, 635], 2, 2, offset=16) #this simply provides a percenatge of the progress\n",
    "\n",
    "    cv2.imshow(\"Img\", img)\n",
    "    cv2.waitKey(1)\n"
   ]
  }
 ],
 "metadata": {
  "kernelspec": {
   "display_name": "Python 3.11.5 64-bit",
   "language": "python",
   "name": "python3"
  },
  "language_info": {
   "codemirror_mode": {
    "name": "ipython",
    "version": 3
   },
   "file_extension": ".py",
   "mimetype": "text/x-python",
   "name": "python",
   "nbconvert_exporter": "python",
   "pygments_lexer": "ipython3",
   "version": "3.11.5"
  },
  "orig_nbformat": 4,
  "vscode": {
   "interpreter": {
    "hash": "aee8b7b246df8f9039afb4144a1f6fd8d2ca17a180786b69acc140d282b71a49"
   }
  }
 },
 "nbformat": 4,
 "nbformat_minor": 2
}
